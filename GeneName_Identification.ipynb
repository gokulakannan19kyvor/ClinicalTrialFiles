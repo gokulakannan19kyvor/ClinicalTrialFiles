{
  "nbformat": 4,
  "nbformat_minor": 0,
  "metadata": {
    "colab": {
      "name": "GeneName Identification.ipynb",
      "provenance": [],
      "collapsed_sections": [],
      "authorship_tag": "ABX9TyPQeiMMz7MUr7tBfGDYsufO",
      "include_colab_link": true
    },
    "kernelspec": {
      "name": "python3",
      "display_name": "Python 3"
    },
    "language_info": {
      "name": "python"
    }
  },
  "cells": [
    {
      "cell_type": "markdown",
      "metadata": {
        "id": "view-in-github",
        "colab_type": "text"
      },
      "source": [
        "<a href=\"https://colab.research.google.com/github/sgokulakannankg19/ClinicalTrialFiles/blob/main/GeneName_Identification.ipynb\" target=\"_parent\"><img src=\"https://colab.research.google.com/assets/colab-badge.svg\" alt=\"Open In Colab\"/></a>"
      ]
    },
    {
      "cell_type": "code",
      "execution_count": null,
      "metadata": {
        "colab": {
          "base_uri": "https://localhost:8080/"
        },
        "id": "xSkFTFp73ytb",
        "outputId": "3464cbfb-8470-4279-eee8-a01fc4f897e3"
      },
      "outputs": [
        {
          "output_type": "stream",
          "name": "stdout",
          "text": [
            "Requirement already satisfied: gspread in /usr/local/lib/python3.7/dist-packages (3.4.2)\n",
            "Collecting gspread\n",
            "  Downloading gspread-5.1.1-py3-none-any.whl (31 kB)\n",
            "Requirement already satisfied: google-auth>=1.12.0 in /usr/local/lib/python3.7/dist-packages (from gspread) (1.35.0)\n",
            "Requirement already satisfied: google-auth-oauthlib>=0.4.1 in /usr/local/lib/python3.7/dist-packages (from gspread) (0.4.6)\n",
            "Requirement already satisfied: pyasn1-modules>=0.2.1 in /usr/local/lib/python3.7/dist-packages (from google-auth>=1.12.0->gspread) (0.2.8)\n",
            "Requirement already satisfied: setuptools>=40.3.0 in /usr/local/lib/python3.7/dist-packages (from google-auth>=1.12.0->gspread) (57.4.0)\n",
            "Requirement already satisfied: rsa<5,>=3.1.4 in /usr/local/lib/python3.7/dist-packages (from google-auth>=1.12.0->gspread) (4.8)\n",
            "Requirement already satisfied: cachetools<5.0,>=2.0.0 in /usr/local/lib/python3.7/dist-packages (from google-auth>=1.12.0->gspread) (4.2.4)\n",
            "Requirement already satisfied: six>=1.9.0 in /usr/local/lib/python3.7/dist-packages (from google-auth>=1.12.0->gspread) (1.15.0)\n",
            "Requirement already satisfied: requests-oauthlib>=0.7.0 in /usr/local/lib/python3.7/dist-packages (from google-auth-oauthlib>=0.4.1->gspread) (1.3.1)\n",
            "Requirement already satisfied: pyasn1<0.5.0,>=0.4.6 in /usr/local/lib/python3.7/dist-packages (from pyasn1-modules>=0.2.1->google-auth>=1.12.0->gspread) (0.4.8)\n",
            "Requirement already satisfied: oauthlib>=3.0.0 in /usr/local/lib/python3.7/dist-packages (from requests-oauthlib>=0.7.0->google-auth-oauthlib>=0.4.1->gspread) (3.2.0)\n",
            "Requirement already satisfied: requests>=2.0.0 in /usr/local/lib/python3.7/dist-packages (from requests-oauthlib>=0.7.0->google-auth-oauthlib>=0.4.1->gspread) (2.23.0)\n",
            "Requirement already satisfied: idna<3,>=2.5 in /usr/local/lib/python3.7/dist-packages (from requests>=2.0.0->requests-oauthlib>=0.7.0->google-auth-oauthlib>=0.4.1->gspread) (2.10)\n",
            "Requirement already satisfied: certifi>=2017.4.17 in /usr/local/lib/python3.7/dist-packages (from requests>=2.0.0->requests-oauthlib>=0.7.0->google-auth-oauthlib>=0.4.1->gspread) (2021.10.8)\n",
            "Requirement already satisfied: urllib3!=1.25.0,!=1.25.1,<1.26,>=1.21.1 in /usr/local/lib/python3.7/dist-packages (from requests>=2.0.0->requests-oauthlib>=0.7.0->google-auth-oauthlib>=0.4.1->gspread) (1.24.3)\n",
            "Requirement already satisfied: chardet<4,>=3.0.2 in /usr/local/lib/python3.7/dist-packages (from requests>=2.0.0->requests-oauthlib>=0.7.0->google-auth-oauthlib>=0.4.1->gspread) (3.0.4)\n",
            "Installing collected packages: gspread\n",
            "  Attempting uninstall: gspread\n",
            "    Found existing installation: gspread 3.4.2\n",
            "    Uninstalling gspread-3.4.2:\n",
            "      Successfully uninstalled gspread-3.4.2\n",
            "Successfully installed gspread-5.1.1\n"
          ]
        }
      ],
      "source": [
        "!pip install --upgrade gspread"
      ]
    },
    {
      "cell_type": "code",
      "source": [
        "from google.colab import auth\n",
        "auth.authenticate_user()\n",
        "\n",
        "import pandas as pd\n",
        "import requests\n",
        "import re\n",
        "\n",
        "import gspread\n",
        "from oauth2client.client import GoogleCredentials\n",
        "\n",
        "gc = gspread.authorize(GoogleCredentials.get_application_default())"
      ],
      "metadata": {
        "id": "HpVMfb9g4BN3"
      },
      "execution_count": null,
      "outputs": []
    },
    {
      "cell_type": "code",
      "source": [
        "interventional_trial_ss = gc.open_by_key(\"1MM0NZ3XNjtatJxEKuu2nOH53NeEawrKVnT7l3WrRuXI\")"
      ],
      "metadata": {
        "id": "Jxpbjkil6H4l"
      },
      "execution_count": null,
      "outputs": []
    },
    {
      "cell_type": "code",
      "source": [
        "def get_gene_aliases_from_master_genes(gene):\n",
        "  gene = gene\n",
        "  wb_master_gene = gc.open_by_key(\"1KvrHR3ShutWfOHvXYvyWn44B4FggKvA2b9Wy8RSad1E\")\n",
        "\n",
        "  ws_compilations = wb_master_gene.worksheet('COMPILATION')\n",
        "  rows = ws_compilations.get_all_values()\n",
        "\n",
        "  df_compilations = pd.DataFrame(rows[2:], columns=rows[1])\n",
        "\n",
        "  new_df = df_compilations.set_index('Gene')\n",
        "  gene_name_results = new_df.loc[gene, 'CKB1': 'HGNC1']\n",
        "\n",
        "  gene_names = []\n",
        "\n",
        "  gene_name_ckb = gene_name_results['CKB1'].split('|')\n",
        "  gene_name_gene_cards = gene_name_results['GeneCards1'].split('|')\n",
        "  gene_name_ncbi = gene_name_results['NCBI1'].split('|')\n",
        "  gene_name_hgnc = gene_name_results['HGNC1'].split(',')\n",
        "\n",
        "  gene_names = gene_name_ckb + gene_name_gene_cards + gene_name_hgnc + gene_name_ncbi\n",
        "  gene_names = [gene.strip() for gene in gene_names]\n",
        "  gene_names = list(set(gene_names))\n",
        "  return gene_names"
      ],
      "metadata": {
        "id": "09pXOJOU6TlN"
      },
      "execution_count": null,
      "outputs": []
    },
    {
      "cell_type": "code",
      "source": [
        "sheet_names = interventional_trial_ss.worksheets()"
      ],
      "metadata": {
        "id": "CsKxhZIO6h_1"
      },
      "execution_count": null,
      "outputs": []
    },
    {
      "cell_type": "code",
      "source": [
        "new_ss = gc.create(\"Gene-braf-7\", \"1ypAmCadV-na_Gj96YmjxQjIbjLyLi1nG\")"
      ],
      "metadata": {
        "id": "YoAD8ewW7ilH"
      },
      "execution_count": null,
      "outputs": []
    },
    {
      "cell_type": "code",
      "source": [
        "def filter_gene_found_in(sheet_df, gene_names):\n",
        "  \n",
        "  result_list = [] \n",
        "  for index in sheet_df.index: \n",
        "  \n",
        "    trial_rows=[]\n",
        "    gene_found_in = []\n",
        "    mutant_found_in = []\n",
        "    wild_type_found_in = []\n",
        "    \n",
        "    data_df = sheet_df.loc[index]\n",
        "  \n",
        "    \n",
        "    nct_id = data_df['NCT ID']\n",
        "    # print(type)\n",
        "    study_type = data_df['Study Type']\n",
        "    overall_status = data_df['Recruitment Status']\n",
        "    phase = data_df['Phase']\n",
        "    brief_title = data_df['Brief Title']\n",
        "    official_title = data_df['Official Title']\n",
        "    brief_summary = data_df['Brief Summary']\n",
        "    detailed_description = data_df['Detailed Description']\n",
        "    cancer_type = data_df['Cancer Type']\n",
        "    study_purpose = data_df['Study Purpose']\n",
        "    intervention = data_df['Intervention']\n",
        "    intervention_description = data_df['Intervention Description']\n",
        "    intervention_other_name = data_df['Intervention Other Name']\n",
        "    study_model = data_df['Study Model']\n",
        "    arm_title = data_df['Arm Title']\n",
        "    arm_description = data_df['Arm Description']\n",
        "    arm_group_intervention = data_df['Arm Group Intervention']\n",
        "    eligibility_criteria = data_df['Eligibility Criteria']\n",
        "    inclusion_criteria = data_df['Inclusion Criteria']\n",
        "    exclusion_criteria = data_df['Exclusion Criteria']\n",
        "    keywords = data_df['Keywords']\n",
        "    pmid = data_df['PMID']\n",
        "    url = data_df['URL']\n",
        "    primary_om_title = data_df['Primary OM Title']\n",
        "    primary_om_description = data_df['Primary OM Description']\n",
        "    secondary_om_title = data_df['Secondary OM Title']\n",
        "    secondary_om_description = data_df['Secondary OM Description']\n",
        "    other_om_title = data_df['Other OM Title']\n",
        "    other_om_description = data_df['Other OM Description']\n",
        "    mesh_terms = data_df['MeSH Terms']\n",
        "    character_count = data_df['Character Count']\n",
        "\n",
        "    # print(\"completed\")\n",
        "\n",
        "    for gene in gene_names:\n",
        "      gene = gene.lower()\n",
        "      if (re.findall(r\"\\b{}\".format(gene), brief_title.lower())):\n",
        "        # print(\"found\", \"Brief Title\")\n",
        "        gene_found_in.append(f\"{gene} - Brief Title\")\n",
        "      if (re.findall(r\"\\b{}\".format(gene), official_title.lower())):\n",
        "        # print(\"found\", \"Official Title\")\n",
        "        gene_found_in.append(f\"{gene} - Official Title\")\n",
        "      if (re.findall(r\"\\b{}\".format(gene), brief_summary.lower())):\n",
        "        # print(\"found\", \"Brief Summary\")\n",
        "        gene_found_in.append(f\"{gene} - Brief Summary\")\n",
        "      if (re.findall(r\"\\b{}\".format(gene), detailed_description.lower())):\n",
        "        # print(\"found\", \"Detailed Description\")\n",
        "        gene_found_in.append(f\"{gene} - Detailed Description\")\n",
        "      if (re.findall(r\"\\b{}\".format(gene), cancer_type.lower())):\n",
        "        # print(\"found\", \"Cancer Type\")\n",
        "        gene_found_in.append(f\"{gene} - Cancer Type\")\n",
        "      if (re.findall(r\"\\b{}\".format(gene), intervention_description.lower())):\n",
        "        # print(\"found\", \"Intervention Description\")\n",
        "        gene_found_in.append(f\"{gene} - Intervention Description\")\n",
        "      if (re.findall(r\"\\b{}\".format(gene), arm_title.lower())):\n",
        "        # print(\"found\", \"Arm Title\")\n",
        "        gene_found_in.append(f\"{gene} - Arm Title\")\n",
        "      if (re.findall(r\"\\b{}\".format(gene), arm_description.lower())):\n",
        "        # print(\"found\", \"Arm Description\")\n",
        "        gene_found_in.append(f\"{gene} - Arm Description\")\n",
        "      if (re.findall(r\"\\b{}\".format(gene), eligibility_criteria.lower())):\n",
        "        # print(\"found\", \"Eligibility Criterial\")\n",
        "        gene_found_in.append(f\"{gene} - Eligibility Criteria\")\n",
        "      if (re.findall(r\"\\b{}\".format(gene), inclusion_criteria.lower())):\n",
        "        # print(\"found\", \"Inclusion Criteria\")\n",
        "        gene_found_in.append(f\"{gene} - Inclusion Criteria\")\n",
        "      if (re.findall(r\"\\b{}\".format(gene), exclusion_criteria.lower())):\n",
        "        # print(\"found\", \"Exclusion Criteria\")\n",
        "        gene_found_in.append(f\"{gene} - Exclusion Criteria\")\n",
        "      if (re.findall(r\"\\b{}\".format(gene), keywords.lower())):\n",
        "        # print(\"found\", \"Keywords\")\n",
        "        gene_found_in.append(f\"{gene} - Keywords\")\n",
        "      if (re.findall(r\"\\b{}\".format(gene), primary_om_title.lower())):\n",
        "        # print(\"found\", \"Primary OM Title\")\n",
        "        gene_found_in.append(f\"{gene} - Primary OM Title\")\n",
        "      if (re.findall(r\"\\b{}\".format(gene), primary_om_description.lower())):\n",
        "        # print(\"found\", \"Primary OM Description\")\n",
        "        gene_found_in.append(f\"{gene} - Primary OM Description\")\n",
        "      if (re.findall(r\"\\b{}\".format(gene), secondary_om_title.lower())):\n",
        "        # print(\"found\", \"Secondary OM Title\")\n",
        "        gene_found_in.append(f\"{gene} - Secondary OM Title\")\n",
        "      if (re.findall(r\"\\b{}\".format(gene), secondary_om_description.lower())):\n",
        "        # print(\"found\", \"Secondary OM Description\")\n",
        "        gene_found_in.append(f\"{gene} - Secondary OM Description\")\n",
        "      if (re.findall(r\"\\b{}\".format(gene), other_om_title.lower())):\n",
        "        # print(\"found\", \"Other OM Title\")\n",
        "        gene_found_in.append(f\"{gene} - Other OM Title\")\n",
        "      if (re.findall(r\"\\b{}\".format(gene), other_om_description.lower())):\n",
        "        # print(\"found\", \"Other OM Description\")\n",
        "        gene_found_in.append(f\"{gene} - Other OM Description\")\n",
        "      if (re.findall(r\"\\b{}\".format(gene), mesh_terms.lower())):\n",
        "        # print(\"found\", \"MeSH Terms\")\n",
        "        gene_found_in.append(f\"{gene} - MeSH Terms\")\n",
        "      \n",
        "\n",
        "    # print(\"completed\")  \n",
        "    \n",
        "    # if [gene.lower() for gene in gene_names if (re.findall(r\"\\b{}\".format(gene), keywords.lower()))]:\n",
        "    #   print(\"found\", \"Keywords\")\n",
        "\n",
        "    gene_found_in_string = \", \".join(gene_found_in)\n",
        "\n",
        "    trial_rows.append(nct_id)\n",
        "    trial_rows.append(study_type)\n",
        "    trial_rows.append(overall_status)\n",
        "    trial_rows.append(phase)\n",
        "    trial_rows.append(brief_title)\n",
        "    trial_rows.append(official_title)\n",
        "    trial_rows.append(brief_summary)\n",
        "    trial_rows.append(detailed_description)\n",
        "    trial_rows.append(cancer_type)\n",
        "    trial_rows.append(study_purpose)\n",
        "    trial_rows.append(intervention)\n",
        "    trial_rows.append(intervention_description)\n",
        "    trial_rows.append(intervention_other_name)\n",
        "    trial_rows.append(study_model)\n",
        "    trial_rows.append(arm_title)\n",
        "    trial_rows.append(arm_description)\n",
        "    trial_rows.append(arm_group_intervention)\n",
        "    trial_rows.append(eligibility_criteria)\n",
        "    trial_rows.append(inclusion_criteria)\n",
        "    trial_rows.append(exclusion_criteria)\n",
        "    trial_rows.append(keywords)\n",
        "    trial_rows.append(pmid)\n",
        "    trial_rows.append(url)\n",
        "    trial_rows.append(primary_om_title)\n",
        "    trial_rows.append(primary_om_description)\n",
        "    trial_rows.append(secondary_om_title)\n",
        "    trial_rows.append(secondary_om_description)\n",
        "    trial_rows.append(other_om_title)\n",
        "    trial_rows.append(other_om_description)\n",
        "    trial_rows.append(mesh_terms)\n",
        "    trial_rows.append(character_count)\n",
        "    trial_rows.append(gene_found_in_string)\n",
        "    \n",
        "    result_list.append(trial_rows)\n",
        "\n",
        "  result_list_df = pd.DataFrame(result_list, columns = [\"NCT ID\", \"Study Type\", \"Recruitment Status\", \"Phase\", \"Brief Title\", \"Official Title\", \"Brief Summary\", \"Detailed Description\", \"Cancer Type\", \"Study Purpose\", \"Intervention\", \"Intervention Description\", \"Intervention Other Name\", \"Study Model\", \"Arm Title\", \"Arm Description\", \"Arm Group Intervention\", \"Eligibility Criteria\", \"Inclusion Criteria\", \"Exclusion Criteria\", \"Keywords\", \"PMID\", \"URL\", \"Primary OM Title\", \"Primary OM Description\", \"Secondary OM Title\", \"Secondary OM Description\", \"Other OM Title\", \"Other OM Description\", \"MeSH Terms\", \"Character Count\", \"Gene Found In\"])\n",
        "  # print(result_list_df)\n",
        "  return result_list_df\n",
        "  \n",
        "  # result_list_df = result_list_df[result_list_df['Gene Found In'] != \"\"]\n",
        "  # print(result_list_df)\n",
        "  # return result_list_df\n",
        "  \n",
        "    "
      ],
      "metadata": {
        "id": "sV30BfVf7uKt"
      },
      "execution_count": null,
      "outputs": []
    },
    {
      "cell_type": "code",
      "source": [
        "result_df = pd.DataFrame(columns = [\"NCT ID\", \"Study Type\", \"Recruitment Status\", \"Phase\", \"Brief Title\", \"Official Title\", \"Brief Summary\", \"Detailed Description\", \"Cancer Type\", \"Study Purpose\", \"Intervention\", \"Intervention Description\", \"Intervention Other Name\", \"Study Model\", \"Arm Title\", \"Arm Description\", \"Arm Group Intervention\", \"Eligibility Criteria\", \"Inclusion Criteria\", \"Exclusion Criteria\", \"Keywords\", \"PMID\", \"URL\", \"Primary OM Title\", \"Primary OM Description\", \"Secondary OM Title\", \"Secondary OM Description\", \"Other OM Title\", \"Other OM Description\", \"MeSH Terms\", \"Character Count\", \"Gene Found In\"])\n",
        "\n",
        "for sheet in sheet_names:\n",
        "  rows = sheet.get_all_values()\n",
        "  sheet_df = pd.DataFrame(rows[1:], columns=rows[0])\n",
        "  sheet_df = sheet_df[sheet_df['Recruitment Status'] != \"Terminated\"]\n",
        "  sheet_df = sheet_df[sheet_df['Recruitment Status'] != \"Suspended\"]\n",
        "  sheet_df = sheet_df[sheet_df['Recruitment Status'] != \"Unknown status\"]\n",
        "  sheet_df = sheet_df[sheet_df['Recruitment Status'] != \"Withdrawn\"]\n",
        "  \n",
        "  gene_names = get_gene_aliases_from_master_genes(\"BRAF\")\n",
        "  gene_names.append(\"BRAF\")\n",
        "  gene_names.append(\"raf\")\n",
        "  # column_headings = sheet_df.columns.to_numpy().tolist()\n",
        "  # column_headings.append(\"Gene Found In\")\n",
        "  final_df = filter_gene_found_in(sheet_df=sheet_df, gene_names=gene_names)\n",
        "  result_df = result_df.append(final_df)\n",
        "  \n"
      ],
      "metadata": {
        "id": "Iqtjey6v6sLE"
      },
      "execution_count": null,
      "outputs": []
    },
    {
      "cell_type": "code",
      "source": [
        "result_df.columns"
      ],
      "metadata": {
        "colab": {
          "base_uri": "https://localhost:8080/"
        },
        "id": "coPQNZHwhG7r",
        "outputId": "7c35365f-33ff-4045-e621-a3cfdc4facb0"
      },
      "execution_count": null,
      "outputs": [
        {
          "output_type": "execute_result",
          "data": {
            "text/plain": [
              "Index(['NCT ID', 'Study Type', 'Recruitment Status', 'Phase', 'Brief Title',\n",
              "       'Official Title', 'Brief Summary', 'Detailed Description',\n",
              "       'Cancer Type', 'Study Purpose', 'Intervention',\n",
              "       'Intervention Description', 'Intervention Other Name', 'Study Model',\n",
              "       'Arm Title', 'Arm Description', 'Arm Group Intervention',\n",
              "       'Eligibility Criteria', 'Inclusion Criteria', 'Exclusion Criteria',\n",
              "       'Keywords', 'PMID', 'URL', 'Primary OM Title', 'Primary OM Description',\n",
              "       'Secondary OM Title', 'Secondary OM Description', 'Other OM Title',\n",
              "       'Other OM Description', 'MeSH Terms', 'Character Count',\n",
              "       'Gene Found In'],\n",
              "      dtype='object')"
            ]
          },
          "metadata": {},
          "execution_count": 82
        }
      ]
    },
    {
      "cell_type": "code",
      "source": [
        "  # sheet_df = sheet_df[sheet_df['Recruitment Status'] != \"Terminated\"]\n",
        "  result_df = result_df[result_df['Gene Found In'] != \"\"]"
      ],
      "metadata": {
        "id": "imMVlZ9chKTJ"
      },
      "execution_count": null,
      "outputs": []
    },
    {
      "cell_type": "code",
      "source": [
        "result_df.shape"
      ],
      "metadata": {
        "colab": {
          "base_uri": "https://localhost:8080/"
        },
        "id": "PXy_soRshnAK",
        "outputId": "9bf947f2-c67e-42e9-8f62-1d93fdfdd60a"
      },
      "execution_count": null,
      "outputs": [
        {
          "output_type": "execute_result",
          "data": {
            "text/plain": [
              "(1228, 32)"
            ]
          },
          "metadata": {},
          "execution_count": 85
        }
      ]
    },
    {
      "cell_type": "code",
      "source": [
        "data_list = result_df.to_numpy().tolist()\n",
        "headers = result_df.columns.tolist()\n",
        "data_to_write = [headers] + data_list\n",
        "sh = gc.open(\"Gene-braf-6\")\n",
        "worksheet = sh.add_worksheet(title=\"Final Result4\", rows=\"10002\", cols=\"300\")\n",
        "worksheet.update(\"A1\",data_to_write,value_input_option=\"USER_ENTERED\")"
      ],
      "metadata": {
        "colab": {
          "base_uri": "https://localhost:8080/"
        },
        "id": "gKqTRtUNC4GE",
        "outputId": "8f12e5d8-a129-4afc-9705-618d300f24ff"
      },
      "execution_count": null,
      "outputs": [
        {
          "output_type": "execute_result",
          "data": {
            "text/plain": [
              "{'spreadsheetId': '1YC0afvykOZrJSuXf0jIWpAsm5czA6XvmUlj7WsI9jw4',\n",
              " 'updatedCells': 39328,\n",
              " 'updatedColumns': 32,\n",
              " 'updatedRange': \"'Final Result4'!A1:AF1229\",\n",
              " 'updatedRows': 1229}"
            ]
          },
          "metadata": {},
          "execution_count": 87
        }
      ]
    },
    {
      "cell_type": "code",
      "source": [
        ""
      ],
      "metadata": {
        "id": "xiRMEoVB6umO"
      },
      "execution_count": null,
      "outputs": []
    }
  ]
}