{
  "nbformat": 4,
  "nbformat_minor": 0,
  "metadata": {
    "colab": {
      "name": "SWUT",
      "provenance": [],
      "collapsed_sections": [],
      "include_colab_link": true
    },
    "kernelspec": {
      "name": "python3",
      "display_name": "Python 3"
    },
    "language_info": {
      "name": "python"
    }
  },
  "cells": [
    {
      "cell_type": "markdown",
      "metadata": {
        "id": "view-in-github",
        "colab_type": "text"
      },
      "source": [
        "<a href=\"https://colab.research.google.com/github/sgokulakannankg19/ClinicalTrialFiles/blob/main/SWUT.ipynb\" target=\"_parent\"><img src=\"https://colab.research.google.com/assets/colab-badge.svg\" alt=\"Open In Colab\"/></a>"
      ]
    },
    {
      "cell_type": "code",
      "execution_count": null,
      "metadata": {
        "colab": {
          "base_uri": "https://localhost:8080/"
        },
        "id": "pmg4lPwEJabz",
        "outputId": "55068b7e-8942-4286-b7dc-a8ec177e8783"
      },
      "outputs": [
        {
          "output_type": "stream",
          "name": "stdout",
          "text": [
            "Requirement already satisfied: gspread in /usr/local/lib/python3.7/dist-packages (3.4.2)\n",
            "Collecting gspread\n",
            "  Downloading gspread-5.1.1-py3-none-any.whl (31 kB)\n",
            "Requirement already satisfied: google-auth-oauthlib>=0.4.1 in /usr/local/lib/python3.7/dist-packages (from gspread) (0.4.6)\n",
            "Requirement already satisfied: google-auth>=1.12.0 in /usr/local/lib/python3.7/dist-packages (from gspread) (1.35.0)\n",
            "Requirement already satisfied: six>=1.9.0 in /usr/local/lib/python3.7/dist-packages (from google-auth>=1.12.0->gspread) (1.15.0)\n",
            "Requirement already satisfied: pyasn1-modules>=0.2.1 in /usr/local/lib/python3.7/dist-packages (from google-auth>=1.12.0->gspread) (0.2.8)\n",
            "Requirement already satisfied: setuptools>=40.3.0 in /usr/local/lib/python3.7/dist-packages (from google-auth>=1.12.0->gspread) (57.4.0)\n",
            "Requirement already satisfied: cachetools<5.0,>=2.0.0 in /usr/local/lib/python3.7/dist-packages (from google-auth>=1.12.0->gspread) (4.2.4)\n",
            "Requirement already satisfied: rsa<5,>=3.1.4 in /usr/local/lib/python3.7/dist-packages (from google-auth>=1.12.0->gspread) (4.8)\n",
            "Requirement already satisfied: requests-oauthlib>=0.7.0 in /usr/local/lib/python3.7/dist-packages (from google-auth-oauthlib>=0.4.1->gspread) (1.3.1)\n",
            "Requirement already satisfied: pyasn1<0.5.0,>=0.4.6 in /usr/local/lib/python3.7/dist-packages (from pyasn1-modules>=0.2.1->google-auth>=1.12.0->gspread) (0.4.8)\n",
            "Requirement already satisfied: oauthlib>=3.0.0 in /usr/local/lib/python3.7/dist-packages (from requests-oauthlib>=0.7.0->google-auth-oauthlib>=0.4.1->gspread) (3.2.0)\n",
            "Requirement already satisfied: requests>=2.0.0 in /usr/local/lib/python3.7/dist-packages (from requests-oauthlib>=0.7.0->google-auth-oauthlib>=0.4.1->gspread) (2.23.0)\n",
            "Requirement already satisfied: certifi>=2017.4.17 in /usr/local/lib/python3.7/dist-packages (from requests>=2.0.0->requests-oauthlib>=0.7.0->google-auth-oauthlib>=0.4.1->gspread) (2021.10.8)\n",
            "Requirement already satisfied: idna<3,>=2.5 in /usr/local/lib/python3.7/dist-packages (from requests>=2.0.0->requests-oauthlib>=0.7.0->google-auth-oauthlib>=0.4.1->gspread) (2.10)\n",
            "Requirement already satisfied: urllib3!=1.25.0,!=1.25.1,<1.26,>=1.21.1 in /usr/local/lib/python3.7/dist-packages (from requests>=2.0.0->requests-oauthlib>=0.7.0->google-auth-oauthlib>=0.4.1->gspread) (1.24.3)\n",
            "Requirement already satisfied: chardet<4,>=3.0.2 in /usr/local/lib/python3.7/dist-packages (from requests>=2.0.0->requests-oauthlib>=0.7.0->google-auth-oauthlib>=0.4.1->gspread) (3.0.4)\n",
            "Installing collected packages: gspread\n",
            "  Attempting uninstall: gspread\n",
            "    Found existing installation: gspread 3.4.2\n",
            "    Uninstalling gspread-3.4.2:\n",
            "      Successfully uninstalled gspread-3.4.2\n",
            "Successfully installed gspread-5.1.1\n"
          ]
        }
      ],
      "source": [
        "!pip install --upgrade gspread"
      ]
    },
    {
      "cell_type": "code",
      "source": [
        "from google.colab import auth\n",
        "auth.authenticate_user()\n",
        "\n",
        "import pandas as pd\n",
        "import requests\n",
        "\n",
        "\n",
        "import gspread\n",
        "from oauth2client.client import GoogleCredentials\n",
        "\n",
        "gc = gspread.authorize(GoogleCredentials.get_application_default())"
      ],
      "metadata": {
        "id": "X9rZIq5YJl7A"
      },
      "execution_count": null,
      "outputs": []
    },
    {
      "cell_type": "code",
      "source": [
        "ct_run1_ss = gc.open(\"CT_Run1_03022022\")\n",
        "ct_run2_ss = gc.open(\"CT_Run2_03022022\")"
      ],
      "metadata": {
        "id": "DrMHw7lmJqbA"
      },
      "execution_count": null,
      "outputs": []
    },
    {
      "cell_type": "markdown",
      "source": [
        ""
      ],
      "metadata": {
        "id": "iSQEuO9KLFs5"
      }
    },
    {
      "cell_type": "code",
      "source": [
        "ss = gc.create(\"observational-list-6\", \"13GpPvOZsZGstaK4H3O__jPzf5CU-mnrA\")"
      ],
      "metadata": {
        "id": "q1Ll7jfrQk-W"
      },
      "execution_count": null,
      "outputs": []
    },
    {
      "cell_type": "code",
      "source": [
        "def create_spreadsheet(ct_run1_ss):\n",
        "  observational_result_list = []\n",
        "  observational_result_df = pd.DataFrame(columns = [\"NCT ID\", \"Study Type\", \"Recruitment Status\", \"Phase\", \"Brief Title\", \"Official Title\", \"Brief Summary\", \"Detailed Description\", \"Cancer Type\", \"Study Purpose\", \"Intervention\", \"Intervention Description\", \"Intervention Other Name\", \"Study Model\", \"Arm Title\", \"Arm Description\", \"Arm Group Intervention\", \"Eligibility Criteria\", \"Inclusion Criteria\", \"Exclusion Criteria\", \"Keywords\", \"PMID\", \"URL\"]) #df = pd.DataFrame(columns = ['Name', 'Articles', 'Improved'])\n",
        "\n",
        "  for sheet in ct_run1_ss.worksheets():\n",
        "    # print(sheet)\n",
        "    if sheet.title != \"OVERVIEW\":\n",
        "\n",
        "      rows = sheet.get_all_values()\n",
        "      sheet_df = pd.DataFrame(rows[1:], columns=rows[0])\n",
        "\n",
        "      #for filtering out observational df\n",
        "      # print(sheet_df.shape)\n",
        "      observational_df = sheet_df[sheet_df['Study Type'] == \"Observational\"]\n",
        "      observational_result_df = observational_result_df.append(observational_df, ignore_index=True)\n",
        "\n",
        "  # for sheet in ct_run2_ss.worksheets():\n",
        "  #   # print(sheet)\n",
        "  #   if sheet.title != \"OVERVIEW\":\n",
        "\n",
        "  #     rows = sheet.get_all_values()\n",
        "  #     sheet_df = pd.DataFrame(rows[1:], columns=rows[0])\n",
        "\n",
        "  #     #for filtering out observational df\n",
        "  #     # print(sheet_df.shape)\n",
        "  #     observational_df = sheet_df[sheet_df['Study Type'] == \"Observational\"]\n",
        "  #     observational_result_df = observational_result_df.append(observational_df, ignore_index=True)\n",
        "  \n",
        "  \n",
        "  end_limit = len(observational_result_df.to_numpy().tolist())\n",
        "  print(end_limit)\n",
        "  if end_limit > 1000:\n",
        "    min_value = 0\n",
        "    max_value = 999\n",
        "    while max_value <= end_limit: #18935 max value =19000\n",
        "      print(min_value, max_value)\n",
        "      observational_list = observational_result_df.to_numpy().tolist()[min_value:max_value]\n",
        "      headers = observational_result_df.columns.tolist()\n",
        "      observational_to_write = [headers] + observational_list\n",
        "      sh = gc.open(\"observational-list-5\")\n",
        "      worksheet = sh.add_worksheet(title=f\"Rank{min_value} - {max_value}\", rows=\"1002\", cols=\"30\")\n",
        "      worksheet.update(\"A1\",observational_to_write)\n",
        "      # worksheet.update(\"A1\",observational_to_write,value_input_option=\"USER_ENTERED\")\n",
        "      print(\"Done\")\n",
        "      min_value += 1000\n",
        "      max_value += 1000\n",
        "    if max_value != end_limit: #\n",
        "      print(min_value, max_value)\n",
        "      min_value = min_value\n",
        "      max_value = end_limit\n",
        "      observational_list = observational_result_df.to_numpy().tolist()[min_value:max_value]\n",
        "      headers = observational_result_df.columns.tolist()\n",
        "      observational_to_write = [headers] + observational_list\n",
        "      sh = gc.open(\"observational-list-5\")\n",
        "      worksheet = sh.add_worksheet(title=f\"Rank{min_value} - {max_value}\", rows=\"1002\", cols=\"30\")\n",
        "      worksheet.update(\"A1\",observational_to_write)\n",
        "      # worksheet.update(\"A1\",observational_to_write,value_input_option=\"USER_ENTERED\")\n",
        "      print(\"Done\")\n",
        "  else:\n",
        "    observational_list = observational_result_df.to_numpy().tolist()[1001:2000]\n",
        "    headers = observational_result_df.columns.tolist()\n",
        "    observational_to_write = [headers] + observational_list\n",
        "    sh = gc.open(\"observational-list-5\")\n",
        "    worksheet = sh.add_worksheet(title=f\"Result\", rows=\"1002\", cols=\"30\")\n",
        "    worksheet.update(\"A1\",observational_to_write,value_input_option=\"USER_ENTERED\")\n",
        "\n",
        "    \n"
      ],
      "metadata": {
        "id": "wkBZJb3aKC8h"
      },
      "execution_count": null,
      "outputs": []
    },
    {
      "cell_type": "code",
      "source": [
        "create_spreadsheet(ct_run1_ss)"
      ],
      "metadata": {
        "id": "3Fmo2MImKHJo"
      },
      "execution_count": null,
      "outputs": []
    },
    {
      "cell_type": "code",
      "source": [
        "def create_spreadsheet2(ct_run1_ss):\n",
        "  observational_result_list = []\n",
        "  observational_result_df = pd.DataFrame(columns = [\"NCT ID\", \"Study Type\", \"Recruitment Status\", \"Phase\", \"Brief Title\", \"Official Title\", \"Brief Summary\", \"Detailed Description\", \"Cancer Type\", \"Study Purpose\", \"Intervention\", \"Intervention Description\", \"Intervention Other Name\", \"Study Model\", \"Arm Title\", \"Arm Description\", \"Arm Group Intervention\", \"Eligibility Criteria\", \"Inclusion Criteria\", \"Exclusion Criteria\", \"Keywords\", \"PMID\", \"URL\"]) #df = pd.DataFrame(columns = ['Name', 'Articles', 'Improved'])\n",
        "\n",
        "  for sheet in ct_run1_ss.worksheets():\n",
        "    # print(sheet)\n",
        "    if sheet.title != \"OVERVIEW\":\n",
        "\n",
        "      rows = sheet.get_all_values()\n",
        "      sheet_df = pd.DataFrame(rows[1:], columns=rows[0])\n",
        "\n",
        "      #for filtering out observational df\n",
        "      # print(sheet_df.shape)\n",
        "      observational_df = sheet_df[sheet_df['Study Type'] == \"Observational\"]\n",
        "      observational_result_df = observational_result_df.append(observational_df, ignore_index=True)\n",
        "\n",
        "  # for sheet in ct_run2_ss.worksheets():\n",
        "  #   # print(sheet)\n",
        "  #   if sheet.title != \"OVERVIEW\":\n",
        "\n",
        "  #     rows = sheet.get_all_values()\n",
        "  #     sheet_df = pd.DataFrame(rows[1:], columns=rows[0])\n",
        "\n",
        "  #     #for filtering out observational df\n",
        "  #     # print(sheet_df.shape)\n",
        "  #     observational_df = sheet_df[sheet_df['Study Type'] == \"Observational\"]\n",
        "  #     observational_result_df = observational_result_df.append(observational_df, ignore_index=True)\n",
        "  \n",
        "  \n",
        "  end_limit = len(observational_result_df.to_numpy().tolist())\n",
        "  print(end_limit)\n",
        "  if end_limit > 1000:\n",
        "    min_value = 0\n",
        "    max_value = 999\n",
        "    while max_value <= end_limit: #18935 max value =19000\n",
        "      print(min_value, max_value)\n",
        "      observational_list = observational_result_df.to_numpy().tolist()[min_value:max_value]\n",
        "      headers = observational_result_df.columns.tolist()\n",
        "      observational_to_write = [headers] + observational_list\n",
        "      sh = gc.open(\"observational-list-6\")\n",
        "      worksheet = sh.add_worksheet(title=f\"Rank{min_value} - {max_value}\", rows=\"1002\", cols=\"30\")\n",
        "      data = worksheet.update(\"A1\",observational_to_write)\n",
        "      while\n",
        "      print(worksheet.update(\"A1\",observational_to_write))\n",
        "      # worksheet.update(\"A1\",observational_to_write,value_input_option=\"USER_ENTERED\")\n",
        "      print(\"Done\")\n",
        "      min_value += 1000\n",
        "      max_value += 1000\n",
        "    if max_value != end_limit: #\n",
        "      print(min_value, max_value)\n",
        "      min_value = min_value\n",
        "      max_value = end_limit\n",
        "      observational_list = observational_result_df.to_numpy().tolist()[min_value:max_value]\n",
        "      headers = observational_result_df.columns.tolist()\n",
        "      observational_to_write = [headers] + observational_list\n",
        "      sh = gc.open(\"observational-list-6\")\n",
        "      worksheet = sh.add_worksheet(title=f\"Rank{min_value} - {max_value}\", rows=\"1002\", cols=\"30\")\n",
        "      print(worksheet.update(\"A1\",observational_to_write))\n",
        "      # worksheet.update(\"A1\",observational_to_write,value_input_option=\"USER_ENTERED\")\n",
        "      print(\"Done\")\n",
        "  else:\n",
        "    observational_list = observational_result_df.to_numpy().tolist()[1001:2000]\n",
        "    headers = observational_result_df.columns.tolist()\n",
        "    observational_to_write = [headers] + observational_list\n",
        "    sh = gc.open(\"observational-list-6\")\n",
        "    worksheet = sh.add_worksheet(title=f\"Result\", rows=\"1002\", cols=\"30\")\n",
        "    print(worksheet.update(\"A1\",observational_to_write,value_input_option=\"USER_ENTERED\"))\n",
        "    \n",
        "\n",
        "    \n"
      ],
      "metadata": {
        "id": "itBZBG_Hs-a7"
      },
      "execution_count": null,
      "outputs": []
    },
    {
      "cell_type": "code",
      "source": [
        "create_spreadsheet2(ct_run1_ss)"
      ],
      "metadata": {
        "colab": {
          "base_uri": "https://localhost:8080/"
        },
        "id": "IqS2prHhu0ux",
        "outputId": "7c15f346-eb3a-4b74-822a-49a2cef64d5c"
      },
      "execution_count": null,
      "outputs": [
        {
          "output_type": "stream",
          "name": "stdout",
          "text": [
            "18935\n",
            "0 999\n",
            "{'spreadsheetId': '13ANrXEqGMswTgSC8LZfobPnHJ0htfY6esWc8BPl0o3c', 'updatedRange': \"'Rank0 - 999'!A1:W1000\", 'updatedRows': 1000, 'updatedColumns': 23, 'updatedCells': 23000}\n",
            "Done\n",
            "1000 1999\n",
            "{'spreadsheetId': '13ANrXEqGMswTgSC8LZfobPnHJ0htfY6esWc8BPl0o3c', 'updatedRange': \"'Rank1000 - 1999'!A1:W1000\", 'updatedRows': 1000, 'updatedColumns': 23, 'updatedCells': 23000}\n",
            "Done\n",
            "2000 2999\n",
            "{'spreadsheetId': '13ANrXEqGMswTgSC8LZfobPnHJ0htfY6esWc8BPl0o3c', 'updatedRange': \"'Rank2000 - 2999'!A1:W1000\", 'updatedRows': 1000, 'updatedColumns': 23, 'updatedCells': 23000}\n",
            "Done\n",
            "3000 3999\n",
            "{'spreadsheetId': '13ANrXEqGMswTgSC8LZfobPnHJ0htfY6esWc8BPl0o3c', 'updatedRange': \"'Rank3000 - 3999'!A1:W1000\", 'updatedRows': 1000, 'updatedColumns': 23, 'updatedCells': 23000}\n",
            "Done\n",
            "4000 4999\n",
            "{'spreadsheetId': '13ANrXEqGMswTgSC8LZfobPnHJ0htfY6esWc8BPl0o3c', 'updatedRange': \"'Rank4000 - 4999'!A1:W1000\", 'updatedRows': 1000, 'updatedColumns': 23, 'updatedCells': 23000}\n",
            "Done\n",
            "5000 5999\n",
            "{'spreadsheetId': '13ANrXEqGMswTgSC8LZfobPnHJ0htfY6esWc8BPl0o3c', 'updatedRange': \"'Rank5000 - 5999'!A1:W1000\", 'updatedRows': 1000, 'updatedColumns': 23, 'updatedCells': 23000}\n",
            "Done\n",
            "6000 6999\n",
            "{'spreadsheetId': '13ANrXEqGMswTgSC8LZfobPnHJ0htfY6esWc8BPl0o3c', 'updatedRange': \"'Rank6000 - 6999'!A1:W1000\", 'updatedRows': 1000, 'updatedColumns': 23, 'updatedCells': 23000}\n",
            "Done\n",
            "7000 7999\n",
            "{'spreadsheetId': '13ANrXEqGMswTgSC8LZfobPnHJ0htfY6esWc8BPl0o3c', 'updatedRange': \"'Rank7000 - 7999'!A1:W1000\", 'updatedRows': 1000, 'updatedColumns': 23, 'updatedCells': 23000}\n",
            "Done\n",
            "8000 8999\n",
            "{'spreadsheetId': '13ANrXEqGMswTgSC8LZfobPnHJ0htfY6esWc8BPl0o3c', 'updatedRange': \"'Rank8000 - 8999'!A1:W1000\", 'updatedRows': 1000, 'updatedColumns': 23, 'updatedCells': 23000}\n",
            "Done\n",
            "9000 9999\n",
            "{'spreadsheetId': '13ANrXEqGMswTgSC8LZfobPnHJ0htfY6esWc8BPl0o3c', 'updatedRange': \"'Rank9000 - 9999'!A1:W1000\", 'updatedRows': 1000, 'updatedColumns': 23, 'updatedCells': 23000}\n",
            "Done\n",
            "10000 10999\n",
            "{'spreadsheetId': '13ANrXEqGMswTgSC8LZfobPnHJ0htfY6esWc8BPl0o3c', 'updatedRange': \"'Rank10000 - 10999'!A1:W1000\", 'updatedRows': 1000, 'updatedColumns': 23, 'updatedCells': 23000}\n",
            "Done\n",
            "11000 11999\n",
            "{'spreadsheetId': '13ANrXEqGMswTgSC8LZfobPnHJ0htfY6esWc8BPl0o3c', 'updatedRange': \"'Rank11000 - 11999'!A1:W1000\", 'updatedRows': 1000, 'updatedColumns': 23, 'updatedCells': 23000}\n",
            "Done\n",
            "12000 12999\n",
            "{'spreadsheetId': '13ANrXEqGMswTgSC8LZfobPnHJ0htfY6esWc8BPl0o3c', 'updatedRange': \"'Rank12000 - 12999'!A1:W1000\", 'updatedRows': 1000, 'updatedColumns': 23, 'updatedCells': 23000}\n",
            "Done\n",
            "13000 13999\n",
            "{'spreadsheetId': '13ANrXEqGMswTgSC8LZfobPnHJ0htfY6esWc8BPl0o3c', 'updatedRange': \"'Rank13000 - 13999'!A1:W1000\", 'updatedRows': 1000, 'updatedColumns': 23, 'updatedCells': 23000}\n",
            "Done\n",
            "14000 14999\n",
            "{'spreadsheetId': '13ANrXEqGMswTgSC8LZfobPnHJ0htfY6esWc8BPl0o3c', 'updatedRange': \"'Rank14000 - 14999'!A1:W1000\", 'updatedRows': 1000, 'updatedColumns': 23, 'updatedCells': 23000}\n",
            "Done\n",
            "15000 15999\n",
            "{'spreadsheetId': '13ANrXEqGMswTgSC8LZfobPnHJ0htfY6esWc8BPl0o3c', 'updatedRange': \"'Rank15000 - 15999'!A1:W1000\", 'updatedRows': 1000, 'updatedColumns': 23, 'updatedCells': 23000}\n",
            "Done\n",
            "16000 16999\n",
            "{'spreadsheetId': '13ANrXEqGMswTgSC8LZfobPnHJ0htfY6esWc8BPl0o3c', 'updatedRange': \"'Rank16000 - 16999'!A1:W1000\", 'updatedRows': 1000, 'updatedColumns': 23, 'updatedCells': 23000}\n",
            "Done\n",
            "17000 17999\n",
            "{'spreadsheetId': '13ANrXEqGMswTgSC8LZfobPnHJ0htfY6esWc8BPl0o3c', 'updatedRange': \"'Rank17000 - 17999'!A1:W1000\", 'updatedRows': 1000, 'updatedColumns': 23, 'updatedCells': 23000}\n",
            "Done\n",
            "18000 18999\n",
            "{'spreadsheetId': '13ANrXEqGMswTgSC8LZfobPnHJ0htfY6esWc8BPl0o3c', 'updatedRange': \"'Rank18000 - 18935'!A1:W936\", 'updatedRows': 936, 'updatedColumns': 23, 'updatedCells': 21528}\n",
            "Done\n"
          ]
        }
      ]
    }
  ]
}