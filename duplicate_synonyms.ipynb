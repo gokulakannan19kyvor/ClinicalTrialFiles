{
  "nbformat": 4,
  "nbformat_minor": 0,
  "metadata": {
    "colab": {
      "name": "duplicate-synonyms.ipynb",
      "provenance": [],
      "authorship_tag": "ABX9TyPjh/YO6anRerRZz+FrbWQk",
      "include_colab_link": true
    },
    "kernelspec": {
      "name": "python3",
      "display_name": "Python 3"
    },
    "language_info": {
      "name": "python"
    }
  },
  "cells": [
    {
      "cell_type": "markdown",
      "metadata": {
        "id": "view-in-github",
        "colab_type": "text"
      },
      "source": [
        "<a href=\"https://colab.research.google.com/github/sgokulakannankg19/ClinicalTrialFiles/blob/main/duplicate_synonyms.ipynb\" target=\"_parent\"><img src=\"https://colab.research.google.com/assets/colab-badge.svg\" alt=\"Open In Colab\"/></a>"
      ]
    },
    {
      "cell_type": "code",
      "execution_count": 1,
      "metadata": {
        "colab": {
          "base_uri": "https://localhost:8080/"
        },
        "id": "v_T-Ai3WEsdu",
        "outputId": "279cfc78-dfcf-41fc-d834-d19af851215b"
      },
      "outputs": [
        {
          "output_type": "stream",
          "name": "stdout",
          "text": [
            "Requirement already satisfied: gspread in /usr/local/lib/python3.7/dist-packages (3.4.2)\n",
            "Collecting gspread\n",
            "  Downloading gspread-5.1.1-py3-none-any.whl (31 kB)\n",
            "Requirement already satisfied: google-auth>=1.12.0 in /usr/local/lib/python3.7/dist-packages (from gspread) (1.35.0)\n",
            "Requirement already satisfied: google-auth-oauthlib>=0.4.1 in /usr/local/lib/python3.7/dist-packages (from gspread) (0.4.6)\n",
            "Requirement already satisfied: pyasn1-modules>=0.2.1 in /usr/local/lib/python3.7/dist-packages (from google-auth>=1.12.0->gspread) (0.2.8)\n",
            "Requirement already satisfied: six>=1.9.0 in /usr/local/lib/python3.7/dist-packages (from google-auth>=1.12.0->gspread) (1.15.0)\n",
            "Requirement already satisfied: cachetools<5.0,>=2.0.0 in /usr/local/lib/python3.7/dist-packages (from google-auth>=1.12.0->gspread) (4.2.4)\n",
            "Requirement already satisfied: rsa<5,>=3.1.4 in /usr/local/lib/python3.7/dist-packages (from google-auth>=1.12.0->gspread) (4.8)\n",
            "Requirement already satisfied: setuptools>=40.3.0 in /usr/local/lib/python3.7/dist-packages (from google-auth>=1.12.0->gspread) (57.4.0)\n",
            "Requirement already satisfied: requests-oauthlib>=0.7.0 in /usr/local/lib/python3.7/dist-packages (from google-auth-oauthlib>=0.4.1->gspread) (1.3.1)\n",
            "Requirement already satisfied: pyasn1<0.5.0,>=0.4.6 in /usr/local/lib/python3.7/dist-packages (from pyasn1-modules>=0.2.1->google-auth>=1.12.0->gspread) (0.4.8)\n",
            "Requirement already satisfied: oauthlib>=3.0.0 in /usr/local/lib/python3.7/dist-packages (from requests-oauthlib>=0.7.0->google-auth-oauthlib>=0.4.1->gspread) (3.2.0)\n",
            "Requirement already satisfied: requests>=2.0.0 in /usr/local/lib/python3.7/dist-packages (from requests-oauthlib>=0.7.0->google-auth-oauthlib>=0.4.1->gspread) (2.23.0)\n",
            "Requirement already satisfied: chardet<4,>=3.0.2 in /usr/local/lib/python3.7/dist-packages (from requests>=2.0.0->requests-oauthlib>=0.7.0->google-auth-oauthlib>=0.4.1->gspread) (3.0.4)\n",
            "Requirement already satisfied: urllib3!=1.25.0,!=1.25.1,<1.26,>=1.21.1 in /usr/local/lib/python3.7/dist-packages (from requests>=2.0.0->requests-oauthlib>=0.7.0->google-auth-oauthlib>=0.4.1->gspread) (1.24.3)\n",
            "Requirement already satisfied: certifi>=2017.4.17 in /usr/local/lib/python3.7/dist-packages (from requests>=2.0.0->requests-oauthlib>=0.7.0->google-auth-oauthlib>=0.4.1->gspread) (2021.10.8)\n",
            "Requirement already satisfied: idna<3,>=2.5 in /usr/local/lib/python3.7/dist-packages (from requests>=2.0.0->requests-oauthlib>=0.7.0->google-auth-oauthlib>=0.4.1->gspread) (2.10)\n",
            "Installing collected packages: gspread\n",
            "  Attempting uninstall: gspread\n",
            "    Found existing installation: gspread 3.4.2\n",
            "    Uninstalling gspread-3.4.2:\n",
            "      Successfully uninstalled gspread-3.4.2\n",
            "Successfully installed gspread-5.1.1\n"
          ]
        }
      ],
      "source": [
        "!pip install --upgrade gspread"
      ]
    },
    {
      "cell_type": "code",
      "source": [
        "from google.colab import auth\n",
        "auth.authenticate_user()\n",
        "\n",
        "import pandas as pd\n",
        "import requests\n",
        "import re\n",
        "\n",
        "import gspread\n",
        "from oauth2client.client import GoogleCredentials\n",
        "\n",
        "gc = gspread.authorize(GoogleCredentials.get_application_default())"
      ],
      "metadata": {
        "id": "3KhNz3iME3JI"
      },
      "execution_count": 2,
      "outputs": []
    },
    {
      "cell_type": "code",
      "source": [
        "sh = gc.open_by_key(\"171T4UUFP6yKdYDY8qUPXIMdFmVu6j8hQEEQzyY2J_f8\")"
      ],
      "metadata": {
        "id": "9PFYZL2BE94V"
      },
      "execution_count": 26,
      "outputs": []
    },
    {
      "cell_type": "code",
      "source": [
        "sheet = sh.worksheet(\"GENE\")\n",
        "rows = sheet.get_all_values()\n",
        "rows"
      ],
      "metadata": {
        "id": "UPInYzqGJ7T2"
      },
      "execution_count": null,
      "outputs": []
    },
    {
      "cell_type": "code",
      "source": [
        "trial_list = []\n",
        "for row in rows[1:]:\n",
        "  synonymn_list = row[2].split(\",\")\n",
        "  for synonymn in synonymn_list:\n",
        "    result_list = []\n",
        "    result_list.append(row[0])\n",
        "    result_list.append(row[1])\n",
        "    result_list.append(synonymn)\n",
        "    trial_list.append(result_list)\n",
        "print(trial_list[0:10])"
      ],
      "metadata": {
        "colab": {
          "base_uri": "https://localhost:8080/"
        },
        "id": "2CcSd52OKES_",
        "outputId": "e2a3a80d-6642-4506-e09e-6ca1a72177f6"
      },
      "execution_count": 42,
      "outputs": [
        {
          "output_type": "stream",
          "name": "stdout",
          "text": [
            "[['ABCC4', 'cAMP signaling pathway', 'ABCC4'], ['ABCC4', 'cAMP signaling pathway', ' MOAT-B'], ['ABCC4', 'cAMP signaling pathway', ' MOATB'], ['ABCC4', 'cAMP signaling pathway', ' MRP4'], ['ABL1', 'Cell cycle', 'ABL1'], ['ABL1', 'Cell cycle', ' ABL'], ['ABL1', 'Cell cycle', ' BCR-ABL'], ['ABL1', 'Cell cycle', ' CHDSKM'], ['ABL1', 'Cell cycle', ' JTK7'], ['ABL1', 'Cell cycle', ' bcr/abl']]\n"
          ]
        }
      ]
    },
    {
      "cell_type": "code",
      "source": [
        "for trial in trial_list:\n",
        "  print(trial)"
      ],
      "metadata": {
        "id": "hhgI5hTCMd1e"
      },
      "execution_count": null,
      "outputs": []
    },
    {
      "cell_type": "code",
      "source": [
        "headers = ['Gene', 'Pathway', 'Gene Synonyms']\n",
        "data_to_write = [headers] + trial_list\n",
        "update_sheet = sh.worksheet(\"Gene_SynonymSplit\")\n",
        "update_sheet.update(\"A1\",data_to_write,value_input_option=\"USER_ENTERED\")"
      ],
      "metadata": {
        "colab": {
          "base_uri": "https://localhost:8080/"
        },
        "id": "q8_irbsYNH0O",
        "outputId": "f00ac0ca-dfb7-41d0-c110-31d2d9061dcc"
      },
      "execution_count": 47,
      "outputs": [
        {
          "output_type": "execute_result",
          "data": {
            "text/plain": [
              "{'spreadsheetId': '171T4UUFP6yKdYDY8qUPXIMdFmVu6j8hQEEQzyY2J_f8',\n",
              " 'updatedCells': 25914,\n",
              " 'updatedColumns': 3,\n",
              " 'updatedRange': 'Gene_SynonymSplit!A1:C8638',\n",
              " 'updatedRows': 8638}"
            ]
          },
          "metadata": {},
          "execution_count": 47
        }
      ]
    }
  ]
}